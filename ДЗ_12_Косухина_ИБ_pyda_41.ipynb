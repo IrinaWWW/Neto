{
  "nbformat": 4,
  "nbformat_minor": 0,
  "metadata": {
    "colab": {
      "provenance": [],
      "include_colab_link": true
    },
    "kernelspec": {
      "name": "python3",
      "display_name": "Python 3"
    },
    "language_info": {
      "name": "python"
    }
  },
  "cells": [
    {
      "cell_type": "markdown",
      "metadata": {
        "id": "view-in-github",
        "colab_type": "text"
      },
      "source": [
        "<a href=\"https://colab.research.google.com/github/IrinaWWW/Neto/blob/main/%D0%94%D0%97_12_%D0%9A%D0%BE%D1%81%D1%83%D1%85%D0%B8%D0%BD%D0%B0_%D0%98%D0%91_pyda_41.ipynb\" target=\"_parent\"><img src=\"https://colab.research.google.com/assets/colab-badge.svg\" alt=\"Open In Colab\"/></a>"
      ]
    },
    {
      "cell_type": "markdown",
      "source": [
        "Домашнее задание к лекции «Случайные события. Случайные величины»\n",
        "\n",
        "\n",
        "Смоделировать игру против лотерейного автомата типа “777”. Игрок платит 1 руб., после чего выпадает случайное целое число, равномерно распределенное от 0 до 999. При некоторых значениях числа игрок получает выигрыш.\n",
        "\n",
        "777: 200 руб.\n",
        "\n",
        "999: 100 руб.\n",
        "\n",
        "555: 50 руб.\n",
        "\n",
        "333: 15 руб.\n",
        "\n",
        "111: 10 руб.\n",
        "\n",
        "*77: 5 руб.\n",
        "\n",
        "**7: 3 руб.\n",
        "\n",
        "*00: 2 руб.\n",
        "\n",
        "**0: 1 руб.\n",
        "\n",
        "Вопросы:\n",
        "\n",
        "Выгодна ли игра игроку?\n",
        "Сколько в среднем приобретает или теряет игрок за одну игру?"
      ],
      "metadata": {
        "id": "_dmVmO4d2N16"
      }
    },
    {
      "cell_type": "code",
      "source": [
        "import random\n",
        "import re\n",
        "\n",
        "# Список выигрышных комбинаций\n",
        "winning_combinations = {\n",
        "    '777': 200,\n",
        "    '999': 100,\n",
        "    '555': 50,\n",
        "    '333': 15,\n",
        "    '111': 10,\n",
        "    '.77': 5,\n",
        "    '..7': 3,\n",
        "    '.00': 2,\n",
        "    '..0': 1\n",
        "}\n",
        "\n",
        "# Функция подсчета выигрышей\n",
        "def calculate_winnings(num):\n",
        "    win = 0\n",
        "    for combination in winning_combinations:\n",
        "        if re.match(combination, num):\n",
        "            if win < winning_combinations[combination]:\n",
        "                win = winning_combinations[combination]\n",
        "    return win\n",
        "\n",
        "# Игра\n",
        "trials = 1000000\n",
        "cost_play = 1\n",
        "total_winnings = 0\n",
        "\n",
        "for i in range(trials):\n",
        "    number = random.randint(0, 999)\n",
        "    total_winnings += calculate_winnings(str(number).zfill(3))\n",
        "\n",
        "average_winnings_game = (total_winnings - (cost_play * trials)) / trials\n",
        "\n",
        "if average_winnings_game > 0:\n",
        "    print('Игра выгодна игроку')\n",
        "else:\n",
        "    print('Игра не выгодна игроку')\n",
        "\n",
        "print('В среднем, игрок приобретает или теряет', round(average_winnings_game, 2), 'рублей за одну игру.')"
      ],
      "metadata": {
        "colab": {
          "base_uri": "https://localhost:8080/"
        },
        "id": "HqmRSU9W2bi5",
        "outputId": "a0e1d323-e03a-4c11-db54-0855b4f87c7d"
      },
      "execution_count": null,
      "outputs": [
        {
          "output_type": "stream",
          "name": "stdout",
          "text": [
            "Игра не выгодна игроку\n",
            "В среднем, игрок приобретает или теряет -0.2 рублей за одну игру.\n"
          ]
        }
      ]
    }
  ]
}